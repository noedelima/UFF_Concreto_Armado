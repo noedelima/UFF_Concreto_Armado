{
 "cells": [
  {
   "cell_type": "markdown",
   "metadata": {},
   "source": [
    "# Concreto Armado I - Roteiro Para a Prova P1"
   ]
  },
  {
   "cell_type": "markdown",
   "metadata": {},
   "source": [
    "Passo a passo para dimensionamento de armadura longitudinal para flexão pura e simples.\n",
    "\n",
    "\n",
    "Aluno: Noé de Lima Bezerra\n",
    "\n",
    "<noe_lima@id.uff.br>"
   ]
  },
  {
   "cell_type": "code",
   "execution_count": null,
   "metadata": {},
   "outputs": [],
   "source": [
    "#import numpy as np\n",
    "import sympy as sp\n",
    "#import pandas as pd\n",
    "#import matplotlib.pyplot as plt\n",
    "from IPython.display import display, Math, Image, IFrame\n",
    "#from sympy.abc import x, y, z\n",
    "sp.init_printing(use_latex='mathjax',latex_mode='equation*')"
   ]
  },
  {
   "cell_type": "markdown",
   "metadata": {},
   "source": [
    "Definições de unidades"
   ]
  },
  {
   "cell_type": "code",
   "execution_count": null,
   "metadata": {},
   "outputs": [],
   "source": [
    "kN,m = sp.symbols(\"kN,m\")\n",
    "Pa = kN/(1000*m)\n",
    "mm = m/1000\n",
    "cm = m/100\n",
    "MPa = 1000000*Pa"
   ]
  },
  {
   "cell_type": "markdown",
   "metadata": {},
   "source": [
    "# Etapa 1: Calcular as cargas sobre a Viga"
   ]
  },
  {
   "cell_type": "markdown",
   "metadata": {},
   "source": [
    "## Calcular o comprimento efetivo do vão ($l_{ef}$)"
   ]
  },
  {
   "cell_type": "markdown",
   "metadata": {},
   "source": [
    "\\begin{equation*}\n",
    "    l_{ef} = l_{0} + \\min{\\left\\{\\begin{matrix}\\frac{Pilar}{2}\\\\0,3\\times h_{viga}\\end{matrix}\\right.} + \\min{\\left\\{\\begin{matrix}\\frac{Pilar}{2}\\\\0,3\\times h_{viga}\\end{matrix}\\right.}\n",
    "\\end{equation*}\n",
    "\n",
    "Onde,\n",
    "\n",
    "* $l_{ef} = $ Comprimento Efetivo do Vão;\n",
    "\n",
    "* $l_{0} = $ Comprimento do Vão fora das colunas"
   ]
  },
  {
   "cell_type": "markdown",
   "metadata": {},
   "source": [
    "## Calcular a mesa ($b_{f}$)"
   ]
  },
  {
   "cell_type": "markdown",
   "metadata": {},
   "source": [
    "\n",
    "\\begin{equation*}\n",
    "    b_{1} = \\min{\\left\\{\\begin{matrix}\\frac{Comprimento\\ da\\ Lage}{2}\\\\0,1\\times a\\end{matrix}\\right.}\n",
    "\\end{equation*}\n",
    "\n",
    "Onde,\n",
    "\n",
    "\\begin{equation*}\n",
    "    a = \\left\\{\\begin{matrix}\n",
    "        l_{ef} & ; & \\text{viga biapoiada} \\\\\n",
    "        0,75\\times l_{ef} & ; & \\text{momento em uma extremidade} \\\\\n",
    "        0,6\\times l_{ef} & ; & \\text{viga biengastada} \\\\\n",
    "        0,2\\times l_{ef} & ; & \\text{viga em balanco}\n",
    "    \\end{matrix}\\right.\n",
    "\\end{equation*}\n",
    "\n",
    "E,\n",
    "\n",
    "\\begin{equation*}\n",
    "    b_{f} = b_{1} + b_{w}\n",
    "\\end{equation*}\n",
    "\n",
    "Obs.: A mesa deve ser calculada sempre que a lage for engastada na viga."
   ]
  },
  {
   "cell_type": "code",
   "execution_count": null,
   "metadata": {},
   "outputs": [],
   "source": [
    "Image('Figuras/secao.png')"
   ]
  },
  {
   "cell_type": "markdown",
   "metadata": {},
   "source": [
    "## Cálculo da carga sobre a viga"
   ]
  },
  {
   "cell_type": "markdown",
   "metadata": {},
   "source": [
    "### Peso próprio da viga\n",
    "\n",
    "\\begin{equation*}\n",
    "    q_{proprio} = b_{w}\\times h_{viga}\\times \\gamma_{concreto}\n",
    "\\end{equation*}\n",
    "\n",
    "Onde,\n",
    "\n",
    "* $\\gamma_{concreto} = 25~kN/m^{3}$;\n",
    "\n",
    "* Não contar a mesa.\n",
    "\n",
    "### Alvenaria\n",
    "\n",
    "\\begin{equation*}\n",
    "    q_{alvenaria} = \\left(\\frac{espessura \\times altura \\times l_{0}}{l_{ef}}\\right)\\gamma_{alvenaria}\n",
    "\\end{equation*}\n",
    "\n",
    "Onde,\n",
    "\n",
    "* $\\gamma_{alvenaria} = 16~kN/m^{3}$.\n",
    "\n",
    "### Lage\n",
    "\n",
    "\\begin{equation*}\n",
    "    R_{lage} = \\frac{S\\left(p\\right)}{l_{ef}}\n",
    "\\end{equation*}\n",
    "\n",
    "Onde,\n",
    "\n",
    "* $S\\left(p\\right) = \\gamma_{lage} + revestimento + q$;\n",
    "\n",
    "* $\\gamma_{lage} = 25~kN/m^{3}$;\n",
    "\n",
    "* Verificar a área da lage atuante na viga.\n",
    "\n",
    "### Cargas Acidentais\n",
    "\n",
    "As cargas acientais devem ser calculadas utilizando os fatores $\\gamma$ das tabelas ao final, de acordo com as descrições.\n",
    "\n",
    "<b><i><FONT size=+2 color=red>*** FORNECER DETALHES! ***</FONT></i></b>"
   ]
  },
  {
   "cell_type": "markdown",
   "metadata": {},
   "source": [
    "## Carga total na viga"
   ]
  },
  {
   "cell_type": "markdown",
   "metadata": {},
   "source": [
    "<FONT color=ciano size=+3>\n",
    "\\begin{equation*}\n",
    "    Q = \\sum{\\left\\{\\begin{matrix}\n",
    "        q_{proprio} \\\\\n",
    "        q_{alvenaria} \\\\\n",
    "        R_{lage} \\\\\n",
    "        Cargas\\ Acidentais\n",
    "    \\end{matrix}\\right.}\n",
    "\\end{equation*}\n",
    "</FONT>"
   ]
  },
  {
   "cell_type": "markdown",
   "metadata": {},
   "source": [
    "# Etapa 2: Traçar o diagrama de momento fletor"
   ]
  },
  {
   "cell_type": "markdown",
   "metadata": {},
   "source": [
    "Resolver o sistema estrutural, que pode conter estrutura hiperestática, traçar o diagrama de esforço cortante, e o diagrama de momento fletor. A partir do diagrama de momento fletor, obter o momento de serviço máximo e mínimo, para, através do momento máximo, definir a armadura longitudinal inferior, e do momento mínimo, a superior.\n",
    "\n",
    "No formulário de consultas, está apresentada a tabela para auxiliar na solução de sistemas hiperestáticos utilizando o método das forças.\n",
    "\n",
    "## Calcular Momento Fletor máximo\n",
    "\n",
    "\\begin{equation*}\n",
    "    M_{d} = 1,4\\times M\n",
    "\\end{equation*}\n",
    "\n",
    "Onde,\n",
    "\n",
    "* $M_{d} = $ Momento de Projeto (<i>Design</i>);\n",
    "\n",
    "* $M = $ Momento de Serviço, obtido a partir do diagrama de momento fletor."
   ]
  },
  {
   "cell_type": "code",
   "execution_count": null,
   "metadata": {},
   "outputs": [],
   "source": [
    "M, M_d = sp.symbols(\"M,M_d\")\n",
    "eq_Md = sp.Eq(M_d, 1.4*M)\n",
    "display(eq_Md)\n",
    "display(eq_Md.subs(M,60*kN*m))"
   ]
  },
  {
   "cell_type": "markdown",
   "metadata": {},
   "source": [
    "# Etapa 3: Dimensionar a armadura inferior"
   ]
  },
  {
   "cell_type": "markdown",
   "metadata": {},
   "source": [
    "## Calcular a Área de Aço ($A_{s}$)\n",
    "\n",
    "\\begin{equation*}\n",
    "    C_{d} = T_{d}\n",
    "\\end{equation*}\n",
    "\n",
    "\\begin{equation*}\n",
    "    \\therefore\n",
    "\\end{equation*}\n",
    "\n",
    "<FONT color=ciano size=+3>\n",
    "\\begin{equation*}\n",
    "    0,85\\times f_{cd}\\times 0,8x\\times b_{w,f} = f_{yd}\\times A_{s}\n",
    "\\end{equation*}\n",
    "</FONT>\n",
    "\n",
    "Onde,\n",
    "\n",
    "* $f_{cd} = \\frac{f_{ck}}{1,4}$ Resistência de projeto do concreto, que é a resistência característica do concreto à compressão sobre um fator de segurança de $1,4$;\n",
    "\n",
    "* $f_{yd} = \\frac{f_{yk}}{1,15}$ Resistência de projeto do aço, que é a resistência característica do aço à tração sobre um fator de segurança de $1,15$;\n",
    "\n",
    "* $x = $ Altura calculada da linha neutra do momento fletor;\n",
    "\n",
    "* $b_{w,f} = \\left\\{\\begin{matrix}\n",
    "    b_{w} & ; & sem\\ mesa\\ colaborante;\\\\\n",
    "    b_{f} & ; & com\\ mesa\\ colaborante.\n",
    "\\end{matrix}\\right.$\n",
    "\n",
    "<b><i><FONT size=+2 color=red>*** REVISAR DETALHES DAS FÓRMULAS, E EXPLICAR O $0,4x$ ABAIXO! ***</FONT></i></b>\n",
    "\n",
    "A partir do lado esquerdo da equação acima, resolver:\n",
    "\n",
    "<FONT color=ciano size=+3>\n",
    "\\begin{equation*}\n",
    "    M_{d} = C_{d}\\left(d - 0,4x\\right)\n",
    "\\end{equation*}\n",
    "</FONT>\n",
    "\n",
    "Onde,\n",
    "\n",
    "* $d = $ altura da viga menos o recobrimento, que no método simplificado é $0,9\\times h_{viga}$;\n",
    "\n",
    "* Resolver a equação do segundo grau para encontrar $x$ (utilizando algoritmo do formulário);\n",
    "\n",
    "* Obtendo $x$, calcular $A_{s}$ através da equação anterior."
   ]
  },
  {
   "cell_type": "code",
   "execution_count": null,
   "metadata": {},
   "outputs": [],
   "source": [
    "f_ck,b_w,f_d,A_s,d,x = sp.symbols(\"f_ck,b_w,f_d,A_s,d,x\")\n",
    "C_d = 0.85*(f_ck/1.4)*0.8*x*b_w\n",
    "T_d = (f_d/1.15)*A_s\n",
    "eq_CdTd = sp.Eq(C_d,T_d)\n",
    "eq_X = sp.Eq(M_d, C_d*(d-1.4*x))\n",
    "display(eq_CdTd)\n",
    "display(eq_X)"
   ]
  },
  {
   "cell_type": "markdown",
   "metadata": {},
   "source": [
    "## Dimensionamento das barras para a área calculada\n",
    "\n",
    "A partir do valor calculado de $A_{s}$, encontrar a bitola e a quantidade adequadas conforme tabela a seguir, refazendo os cálculos da etapa anterior para encontrar o novo valor de $x$ para o $A_{s}$ atualizado."
   ]
  },
  {
   "cell_type": "code",
   "execution_count": null,
   "metadata": {},
   "outputs": [],
   "source": [
    "Image('Figuras/area.jpeg')"
   ]
  },
  {
   "cell_type": "markdown",
   "metadata": {},
   "source": [
    "## Verificação do Domínio\n",
    "\n",
    "\\begin{equation*}\n",
    "    \\frac{\\epsilon_{cu}}{x} = \\frac{\\epsilon_{sw}}{d-x}\n",
    "\\end{equation*}\n",
    "\n",
    "\\begin{equation*}\n",
    "    \\therefore\n",
    "\\end{equation*}\n",
    "\n",
    "<FONT color=ciano size=+3>\n",
    "\\begin{equation*}\n",
    "    \\beta_{x} = \\frac{x}{d} = \\frac{\\epsilon_{cu}}{\\epsilon_{cu} + \\epsilon_{sw}}\n",
    "\\end{equation*}\n",
    "</FONT>"
   ]
  },
  {
   "cell_type": "code",
   "execution_count": null,
   "metadata": {},
   "outputs": [],
   "source": [
    "epsilon_cu,epsilon_sw = sp.symbols(\"epsilon_cu,epsilon_sw\")\n",
    "eq_dom = sp.Eq(epsilon_cu/x, epsilon_sw/(d-x))\n",
    "display(eq_dom)"
   ]
  },
  {
   "cell_type": "code",
   "execution_count": null,
   "metadata": {},
   "outputs": [],
   "source": [
    "Image('Figuras/dominios.png')"
   ]
  },
  {
   "cell_type": "markdown",
   "metadata": {},
   "source": [
    "Deve-se trabalhar sempre nos domínios 2 ou 3, onde o aço escoa antes do esmagamento do concreto, sendo esta ruptura frágil. Desta forma, não há falha dúctil onde o concreto falha sem prévio aviso. O escoamento do aço expõe as fissuras do concreto na parte inferior da viga, permitindo providências sem danos repentinos. Se a viga estiver super-armada, ou a viga trabalhando sob compressão pura, o concreto pode falhar por esmagamento antes do aço, de forma que não há forma de prever a falha quando esta for iminente."
   ]
  },
  {
   "cell_type": "markdown",
   "metadata": {},
   "source": [
    "## Verificação do $A_{s_{min}}$; $M_{d_{min}}$\n",
    "\n",
    "\\begin{equation*}\n",
    "    A_{s_{min}} = 0,15\\%\\times A_{c}\n",
    "\\end{equation*}\n",
    "\n",
    "Onde,\n",
    "\n",
    "* $A_{s_{min}} = $ Área de Aço mínima;\n",
    "\n",
    "* $A_{c}$ = Área de Concreto comprimida.\n",
    "\n",
    "\\begin{equation*}\n",
    "    M_{d_{min}} = 0,8w_{0}\\times f_{ck}\n",
    "\\end{equation*}\n",
    "\n",
    "Onde,\n",
    "\n",
    "* $M_{d_{min}} = $ Momento Mínimo de projeto;\n",
    "\n",
    "* $w_{0} = \\frac{I}{y_{t}}$;\n",
    "\n",
    "* $f_{ck} = 1,3\\times f_{ctm}$."
   ]
  },
  {
   "cell_type": "markdown",
   "metadata": {},
   "source": [
    "# Etapa 4: Dimensionar a armadura superior"
   ]
  },
  {
   "cell_type": "markdown",
   "metadata": {},
   "source": [
    "Igual ao passo anterior, porém, como momento fletor negativo.\n",
    "\n",
    "Obs.: no caso da armadura superior, não há mesa colaborante.\n",
    "\n",
    "Obs.2: Caso a lage seja engastada na parte inferior da viga, a mesa colaborante é na parte inferior."
   ]
  },
  {
   "cell_type": "markdown",
   "metadata": {},
   "source": [
    "# Etapa 5: Detalhar o perfil"
   ]
  },
  {
   "cell_type": "markdown",
   "metadata": {},
   "source": [
    "Após obter as armaduras superior e inferior correspondentes, deve-se distribuí-las no perfil, respeitando-se as distâncias mínimas entre as barras, conforme observação abaixo. Em seguida, calcular o centro de massa correspondente das armaduras inferior e superior, bem como da área comprimida de concreto, de forma a saber o valor real de $d$, e o braço de alavanca $z$. Esse valor corrigido de $d$ permitirá saber o domínio real da estrutura, conforme cálculo e tabela de domínios já apresentados.\n",
    "\n",
    "Obs.:\n",
    "\n",
    "* $a_{h} = \\max\\left\\{\\begin{matrix}\n",
    "    20~mm \\\\\n",
    "    \\phi \\\\\n",
    "    1,2\\times\\phi_{agregado}\n",
    "\\end{matrix}\\right.$\n",
    "\n",
    "* $a_{y} = \\max\\left\\{\\begin{matrix}\n",
    "    20~mm \\\\\n",
    "    \\phi \\\\\n",
    "    0,5\\times\\phi_{agregado}\n",
    "\\end{matrix}\\right.$\n",
    "\n",
    "Fazer um diagrama do perfil determinado com a seção transversal, as barras, e as distâncias calculadas, conforme exemplo abaixo."
   ]
  },
  {
   "cell_type": "code",
   "execution_count": null,
   "metadata": {},
   "outputs": [],
   "source": [
    "Image('Figuras/detalhe.png')"
   ]
  },
  {
   "cell_type": "markdown",
   "metadata": {},
   "source": [
    "# Determinação da Flexa"
   ]
  },
  {
   "cell_type": "markdown",
   "metadata": {},
   "source": [
    "## $I$ da peça"
   ]
  },
  {
   "cell_type": "markdown",
   "metadata": {},
   "source": [
    "\\begin{equation*}\n",
    "    E_{cs} = \\left(0,8+0,2\\frac{f_{ck}}{80}\\right)\\left(5690\\sqrt{f_{ck}}\\right)\n",
    "\\end{equation*}\n",
    "\n",
    "Onde,\n",
    "\n",
    "* $E_{cs} = $ Módulo de Elasticidade do concreto.\n",
    "\n",
    "Obs.: $\\alpha_{e} = \\frac{E_{s}}{E_{cs}}$\n",
    "\n",
    "Utilizamos a equação abaixo para encontrar o valor de $x_{II}$.\n",
    "\n",
    "\\begin{equation*}\n",
    "    \\frac{b_{w}x_{II}^{2}}{2} = \\alpha_{e}A_{s}\\left(d-x_{II}\\right)\n",
    "\\end{equation*}\n",
    "\n",
    "Finalmente, calculamos as Inércias.\n",
    "\n",
    "\\begin{equation*}\n",
    "    I_{c} = \\frac{b_{w}\\times h^{3}}{12}\n",
    "\\end{equation*}\n",
    "\n",
    "\\begin{equation*}\n",
    "    I_{II} = \\frac{b_{w}x_{II}^{3}}{3} + \\alpha_{e}A_{s}\\left(d-x_{II}\\right)^{2}\n",
    "\\end{equation*}\n",
    "\n",
    "Os valores de $M_{a}$ e $M_{r}$, dados abaixo, serão utilizados para o cálculo do $EI_{eq}$.\n",
    "\n",
    "\\begin{equation*}\n",
    "    M_{a} = M_{g} + \\Psi_{2}M_{q}\n",
    "\\end{equation*}\n",
    "\n",
    "\\begin{equation*}\n",
    "    M_{r} = \\frac{\\alpha f_{ct}I_{c}}{y_{t}}\n",
    "\\end{equation*}\n",
    "\n",
    "Onde,\n",
    "\n",
    "* $\\alpha = \\left\\{\\begin{matrix}\n",
    "    1,2 & ; & viga\\ T \\\\\n",
    "    1,5 & ; & viga\\ retancular\n",
    "\\end{matrix}\\right.$\n",
    "\n",
    "* $f_{ct} = 0,3\\times f_{cf}^{\\frac{2}{3}}$, para deformação, ou $f_{ct} = 0,21\\times f_{cf}^{\\frac{2}{3}}$, para fissura;\n",
    "\n",
    "* O valor de $\\Psi_{2}$ é dado de tabela fornecida;\n",
    "\n",
    "* Os valores de $M_{g}$ e $M_{q}$ são os momentos da viga sob carregamento permanente e acidentais, respectivamente."
   ]
  },
  {
   "cell_type": "markdown",
   "metadata": {},
   "source": []
  },
  {
   "cell_type": "markdown",
   "metadata": {},
   "source": [
    "## Calcular $EI_{eq}$"
   ]
  },
  {
   "cell_type": "markdown",
   "metadata": {},
   "source": [
    "\n",
    "\\begin{equation*}\n",
    "    EI_{eq} = E_{cs}\\left\\{\\left(\\frac{M_{r}}{M_{a}}\\right)^{3}I_{c} + \\left[1-\\left(\\frac{M_{r}}{M_{a}}\\right)^{3}\\right]I_{II}\\right\\} \\leq E_{cs}I_{c}\n",
    "\\end{equation*}"
   ]
  },
  {
   "cell_type": "markdown",
   "metadata": {},
   "source": [
    "## Flexa"
   ]
  },
  {
   "cell_type": "markdown",
   "metadata": {},
   "source": [
    "### Viga Biapoiada\n",
    "\n",
    "\\begin{equation*}\n",
    "    \\delta = \\frac{5pl_{eq}^{4}}{384EI_{eq}}\n",
    "\\end{equation*}\n",
    "\n",
    "### Viga Biengastada\n",
    "\n",
    "\\begin{equation*}\n",
    "    \\delta = \\frac{pl_{eq}^{4}}{384EI_{eq}}\n",
    "\\end{equation*}\n",
    "\n",
    "Onde,\n",
    "\n",
    "* $p = g + \\Psi_{2}q$\n",
    "\n",
    "\\begin{equation*}\n",
    "    \\delta_{diferido} = \\alpha_{f} - b\n",
    "\\end{equation*}\n",
    "\n",
    "\\begin{equation*}\n",
    "    \\delta_{r} = \\delta_{diferido} - \\epsilon \\leq S_{min} = \\frac{l_{eq}}{250}\n",
    "\\end{equation*}"
   ]
  },
  {
   "cell_type": "markdown",
   "metadata": {},
   "source": [
    "## Cross"
   ]
  },
  {
   "cell_type": "markdown",
   "metadata": {},
   "source": [
    "\\begin{equation*}\n",
    "    \\begin{matrix}\n",
    "    \\kappa = \\frac{3EI}{e} & \\mu = \\frac{\\kappa_{a}}{\\kappa_{a} + \\kappa_{b}} \\\\\n",
    "    M_{eng} & M_{a}-M_{b}\n",
    "    \\end{matrix}\n",
    "\\end{equation*}"
   ]
  },
  {
   "cell_type": "markdown",
   "metadata": {},
   "source": [
    "# Formulário Rápido"
   ]
  },
  {
   "cell_type": "markdown",
   "metadata": {},
   "source": [
    "## Script Para Resolver Equação do Segundo Grau"
   ]
  },
  {
   "cell_type": "code",
   "execution_count": null,
   "metadata": {},
   "outputs": [],
   "source": [
    "a = 10\n",
    "b = 7\n",
    "c = -6\n",
    "\n",
    "Delta = b**2 - 4*a*c\n",
    "x = sp.Symbol('x1:3')\n",
    "y = sp.symbols('y')\n",
    "# x1,x2 = sp.solve(sp.Eq(a*y**2 + b*y + c, 0),y) # É possível comentar a linha abaixo, descomentar esta e inserir a equação diretamente aqui, caso não esteja no formato ax²+bx+c=0. Escrever em função de y.\n",
    "x1,x2 = sp.solve(sp.Eq(a*y**2 + b*y + c, 0),y) \n",
    "#display(sp.Eq(sp.S('Delta'),Delta))\n",
    "display(sp.Eq(sp.S('x1'),x1))\n",
    "display(sp.Eq(sp.S('x2'),x2))"
   ]
  },
  {
   "cell_type": "markdown",
   "metadata": {},
   "source": [
    "## Tabela de Integração Método das Forças"
   ]
  },
  {
   "cell_type": "code",
   "execution_count": null,
   "metadata": {},
   "outputs": [],
   "source": [
    "Image('Figuras/tabela integrais.jpg')"
   ]
  },
  {
   "cell_type": "markdown",
   "metadata": {},
   "source": [
    "## Tabela de Carregamentos"
   ]
  },
  {
   "cell_type": "code",
   "execution_count": null,
   "metadata": {},
   "outputs": [],
   "source": [
    "Image('Figuras/carregamentos.jpeg')"
   ]
  },
  {
   "cell_type": "markdown",
   "metadata": {},
   "source": [
    "# Questões Teóricas"
   ]
  },
  {
   "cell_type": "markdown",
   "metadata": {},
   "source": [
    "## Algumas possíveis questões teóricas"
   ]
  },
  {
   "cell_type": "markdown",
   "metadata": {},
   "source": [
    "a) Definir resistência característica do concreto à compressão.\n",
    "\n",
    "R: O Fck indica qual tensão o concreto tem capacidade de resistir. Essa tensão é a resultante da divisão entre a força e a área em que ela atuará. Dessa forma, os testes de resistência no concreto possibilitam confirmar a tensão máxima a que ele resistirá antes de sofrer ruptura.\n",
    "\n",
    "b) Cite três hipóteses básicas adotadas na teoria da flexão simples para o dimensionamento de vigas de concreto armado no estado limite último.\n",
    "\n",
    "R: - Manutenção das seções transversais planas até a ruptura(Hipótese de Bernoulli) - Perfeita aderência entre a armadura interna e o concreto\n",
    "\n",
    "* Deformação do aço deve ser a mesma do concreto em seu entorno\n",
    "\n",
    "* Resistência do concreto à tração fct é desprezada\n",
    "\n",
    "c) Definir braço de alavanca de uma viga em concreto armado.\n",
    "\n",
    "R: É a distância entre a resultante de forças de compressão (Cd) e a resultante das forças de tração (Td) em vigas de concreto.\n",
    "\n",
    "d) Quais são os valores de deformação do concreto e do aço em uma viga de concreto armado no domínio 3 do estado limite último? Qual destes materiais tem sua capacidade resistente esgotada neste domínio?\n",
    "\n",
    "e) Qual o valor da deformação de cálculo ao escoamento do aço tipo CA-60?\n",
    "\n",
    "R: O aço CA-60 por passar por um processo de encruamento a frio não possui patamar de escoamento definido. Após o trecho inicial linear do diagrama tensão x deformação, o diagrama torna-se uma curva e seu alongamento máximo é limitado ao valor de 10%o, para evitar deformações plásticas excessivas na ruptura.\n",
    "\n",
    "f) Definir viga de concreto armado normalmente armada.\n",
    "\n",
    "R: A viga normalmente armada possui a taxa de armadura adequada com rompimento no domínio 3. A ruptura é dúctil, com aviso prévio pois ocorre a deformação excessiva da armadura e o concreto é esmagado.\n",
    "\n",
    "g) Cite três parâmetros influentes na resistência de aderência de cálculo entre o aço e o concreto.\n",
    "\n",
    "R: O parâmetro que considera a rugosidade da barra ɳ1, o parâmetro que considera a posição da barra na peça ɳ2 e o parâmetro que considera o diâmetro da barra ɳ3.\n",
    "\n",
    "h) Definir armadura mínima de uma viga em concreto armado.\n",
    "\n",
    "i) Quais são os valores de deformação do concreto e do aço em uma viga de concreto armado no domínio 4 do estado limite último? Qual destes materiais tem sua capacidade resistente esgotada neste domínio?\n",
    "\n",
    "j) Definir altura da linha neutra de uma viga em concreto armado no estado limite último.\n",
    "\n",
    "k) Definir altura útil de uma viga em concreto armado.\n",
    "\n",
    "l) Cite três assuntos influentes na parcela Vc referente ao dimensionamento ao cisalhamento de vigas. (P2)\n",
    "\n",
    "m) Quais são os valores de deformação do concreto e do aço em uma viga de concreto armado no domínio 2 do estado limite último? Qual destes materiais tem sua capacidade resistente esgotada neste domínio?\n",
    "\n",
    "R: Neste domínio a deformação do concreto vai de 0°/oo até 3,5°/oo e a do aço é 10°/oo. O aço tem a capacidade esgotada.\n",
    "\n",
    "n) Qual o artifício utilizado na barra de aço para que os esforços a que esteja submetida sejam integralmente transmitidos ao concreto?"
   ]
  }
 ],
 "metadata": {
  "interpreter": {
   "hash": "31f2aee4e71d21fbe5cf8b01ff0e069b9275f58929596ceb00d14d90e3e16cd6"
  },
  "kernelspec": {
   "display_name": "Python 3 (ipykernel)",
   "language": "python",
   "name": "python3"
  },
  "language_info": {
   "codemirror_mode": {
    "name": "ipython",
    "version": 3
   },
   "file_extension": ".py",
   "mimetype": "text/x-python",
   "name": "python",
   "nbconvert_exporter": "python",
   "pygments_lexer": "ipython3",
   "version": "3.8.10"
  }
 },
 "nbformat": 4,
 "nbformat_minor": 4
}
